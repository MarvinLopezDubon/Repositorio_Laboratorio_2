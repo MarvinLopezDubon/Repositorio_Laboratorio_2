{
 "cells": [
  {
   "cell_type": "markdown",
   "id": "b74fe3af-e36d-4ea3-83c5-b68d71c9f77e",
   "metadata": {},
   "source": [
    "# PROYECTO API"
   ]
  },
  {
   "cell_type": "markdown",
   "id": "20bf09f0-8c8d-4f26-b94d-d61958210b5a",
   "metadata": {},
   "source": [
    "## Librerías"
   ]
  },
  {
   "cell_type": "code",
   "execution_count": 107,
   "id": "aafa62b3-395a-44db-ac63-9a397df5af2a",
   "metadata": {},
   "outputs": [],
   "source": [
    "import numpy as np\n",
    "import pandas as pd\n",
    "import matplotlib.pyplot as plt\n",
    "import seaborn as sns\n",
    "import warnings\n",
    "warnings.filterwarnings('ignore')\n",
    "%matplotlib inline"
   ]
  },
  {
   "cell_type": "code",
   "execution_count": 137,
   "id": "d57190e2-a832-4adf-8619-5f4ee73be9a5",
   "metadata": {},
   "outputs": [],
   "source": [
    "data = pd.read_csv('train.csv')"
   ]
  },
  {
   "cell_type": "code",
   "execution_count": 138,
   "id": "cf6df7dd-0584-4ccf-b163-45c42135a2c7",
   "metadata": {},
   "outputs": [
    {
     "data": {
      "text/html": [
       "<div>\n",
       "<style scoped>\n",
       "    .dataframe tbody tr th:only-of-type {\n",
       "        vertical-align: middle;\n",
       "    }\n",
       "\n",
       "    .dataframe tbody tr th {\n",
       "        vertical-align: top;\n",
       "    }\n",
       "\n",
       "    .dataframe thead th {\n",
       "        text-align: right;\n",
       "    }\n",
       "</style>\n",
       "<table border=\"1\" class=\"dataframe\">\n",
       "  <thead>\n",
       "    <tr style=\"text-align: right;\">\n",
       "      <th></th>\n",
       "      <th>PassengerId</th>\n",
       "      <th>Survived</th>\n",
       "      <th>Pclass</th>\n",
       "      <th>Name</th>\n",
       "      <th>Sex</th>\n",
       "      <th>Age</th>\n",
       "      <th>SibSp</th>\n",
       "      <th>Parch</th>\n",
       "      <th>Ticket</th>\n",
       "      <th>Fare</th>\n",
       "      <th>Cabin</th>\n",
       "      <th>Embarked</th>\n",
       "    </tr>\n",
       "  </thead>\n",
       "  <tbody>\n",
       "    <tr>\n",
       "      <th>0</th>\n",
       "      <td>1</td>\n",
       "      <td>0</td>\n",
       "      <td>3</td>\n",
       "      <td>Braund, Mr. Owen Harris</td>\n",
       "      <td>male</td>\n",
       "      <td>22.0</td>\n",
       "      <td>1</td>\n",
       "      <td>0</td>\n",
       "      <td>A/5 21171</td>\n",
       "      <td>7.2500</td>\n",
       "      <td>NaN</td>\n",
       "      <td>S</td>\n",
       "    </tr>\n",
       "    <tr>\n",
       "      <th>1</th>\n",
       "      <td>2</td>\n",
       "      <td>1</td>\n",
       "      <td>1</td>\n",
       "      <td>Cumings, Mrs. John Bradley (Florence Briggs Th...</td>\n",
       "      <td>female</td>\n",
       "      <td>38.0</td>\n",
       "      <td>1</td>\n",
       "      <td>0</td>\n",
       "      <td>PC 17599</td>\n",
       "      <td>71.2833</td>\n",
       "      <td>C85</td>\n",
       "      <td>C</td>\n",
       "    </tr>\n",
       "    <tr>\n",
       "      <th>2</th>\n",
       "      <td>3</td>\n",
       "      <td>1</td>\n",
       "      <td>3</td>\n",
       "      <td>Heikkinen, Miss. Laina</td>\n",
       "      <td>female</td>\n",
       "      <td>26.0</td>\n",
       "      <td>0</td>\n",
       "      <td>0</td>\n",
       "      <td>STON/O2. 3101282</td>\n",
       "      <td>7.9250</td>\n",
       "      <td>NaN</td>\n",
       "      <td>S</td>\n",
       "    </tr>\n",
       "    <tr>\n",
       "      <th>3</th>\n",
       "      <td>4</td>\n",
       "      <td>1</td>\n",
       "      <td>1</td>\n",
       "      <td>Futrelle, Mrs. Jacques Heath (Lily May Peel)</td>\n",
       "      <td>female</td>\n",
       "      <td>35.0</td>\n",
       "      <td>1</td>\n",
       "      <td>0</td>\n",
       "      <td>113803</td>\n",
       "      <td>53.1000</td>\n",
       "      <td>C123</td>\n",
       "      <td>S</td>\n",
       "    </tr>\n",
       "    <tr>\n",
       "      <th>4</th>\n",
       "      <td>5</td>\n",
       "      <td>0</td>\n",
       "      <td>3</td>\n",
       "      <td>Allen, Mr. William Henry</td>\n",
       "      <td>male</td>\n",
       "      <td>35.0</td>\n",
       "      <td>0</td>\n",
       "      <td>0</td>\n",
       "      <td>373450</td>\n",
       "      <td>8.0500</td>\n",
       "      <td>NaN</td>\n",
       "      <td>S</td>\n",
       "    </tr>\n",
       "  </tbody>\n",
       "</table>\n",
       "</div>"
      ],
      "text/plain": [
       "   PassengerId  Survived  Pclass  \\\n",
       "0            1         0       3   \n",
       "1            2         1       1   \n",
       "2            3         1       3   \n",
       "3            4         1       1   \n",
       "4            5         0       3   \n",
       "\n",
       "                                                Name     Sex   Age  SibSp  \\\n",
       "0                            Braund, Mr. Owen Harris    male  22.0      1   \n",
       "1  Cumings, Mrs. John Bradley (Florence Briggs Th...  female  38.0      1   \n",
       "2                             Heikkinen, Miss. Laina  female  26.0      0   \n",
       "3       Futrelle, Mrs. Jacques Heath (Lily May Peel)  female  35.0      1   \n",
       "4                           Allen, Mr. William Henry    male  35.0      0   \n",
       "\n",
       "   Parch            Ticket     Fare Cabin Embarked  \n",
       "0      0         A/5 21171   7.2500   NaN        S  \n",
       "1      0          PC 17599  71.2833   C85        C  \n",
       "2      0  STON/O2. 3101282   7.9250   NaN        S  \n",
       "3      0            113803  53.1000  C123        S  \n",
       "4      0            373450   8.0500   NaN        S  "
      ]
     },
     "execution_count": 138,
     "metadata": {},
     "output_type": "execute_result"
    }
   ],
   "source": [
    "data.head()"
   ]
  },
  {
   "cell_type": "code",
   "execution_count": 139,
   "id": "7e860c60-eba6-4866-a9ed-3df3e78e6770",
   "metadata": {},
   "outputs": [
    {
     "data": {
      "text/plain": [
       "PassengerId      0\n",
       "Survived         0\n",
       "Pclass           0\n",
       "Name             0\n",
       "Sex              0\n",
       "Age            177\n",
       "SibSp            0\n",
       "Parch            0\n",
       "Ticket           0\n",
       "Fare             0\n",
       "Cabin          687\n",
       "Embarked         2\n",
       "dtype: int64"
      ]
     },
     "execution_count": 139,
     "metadata": {},
     "output_type": "execute_result"
    }
   ],
   "source": [
    "# Variable Objetivo: Survived\n",
    "# revisar la cantidad de valores nulos dentro de mi dataframe\n",
    "data.isnull().sum()"
   ]
  },
  {
   "cell_type": "code",
   "execution_count": 140,
   "id": "2a3f1764-6ee4-4848-8741-c89505fb4325",
   "metadata": {},
   "outputs": [
    {
     "data": {
      "text/plain": [
       "Text(0.5, 1.0, 'Cantidad de Sobrevivientes')"
      ]
     },
     "execution_count": 140,
     "metadata": {},
     "output_type": "execute_result"
    },
    {
     "data": {
      "image/png": "[encoded data removed]",
      "text/plain": [
       "<Figure size 1296x576 with 2 Axes>"
      ]
     },
     "metadata": {
      "needs_background": "light"
     },
     "output_type": "display_data"
    }
   ],
   "source": [
    "f, ax = plt.subplots(1,2, figsize = (18,8))\n",
    "\n",
    "data['Survived'].value_counts().plot.pie(autopct = '%1.1f%%' , ax = ax[0], explode = [0, 0.1], shadow = True)\n",
    "ax[0].set_title('Sobrevivientes')\n",
    "ax[0].set_ylabel('')\n",
    "\n",
    "sns.countplot('Sex', hue='Survived', data= data, ax= ax[1])\n",
    "ax[0].set_title('Cantidad de Sobrevivientes')"
   ]
  },
  {
   "cell_type": "code",
   "execution_count": null,
   "id": "97214ecc-617f-457f-9beb-1800cfe3c062",
   "metadata": {},
   "outputs": [],
   "source": [
    "# Ingenieria de caracteristicas"
   ]
  },
  {
   "cell_type": "code",
   "execution_count": 141,
   "id": "dd6c9914-92ce-4254-a1cb-b154c045b2ca",
   "metadata": {},
   "outputs": [
    {
     "data": {
      "text/plain": [
       "891"
      ]
     },
     "execution_count": 141,
     "metadata": {},
     "output_type": "execute_result"
    }
   ],
   "source": [
    "data['PassengerId'].count()"
   ]
  },
  {
   "cell_type": "code",
   "execution_count": 142,
   "id": "d14e9492-6f29-4495-bc5a-13d4fa02b244",
   "metadata": {},
   "outputs": [
    {
     "data": {
      "text/plain": [
       "0    549\n",
       "1    342\n",
       "Name: Survived, dtype: int64"
      ]
     },
     "execution_count": 142,
     "metadata": {},
     "output_type": "execute_result"
    }
   ],
   "source": [
    "data['Survived'].value_counts()"
   ]
  },
  {
   "cell_type": "code",
   "execution_count": 143,
   "id": "291eafa8-82b5-41a2-a2ab-01b5ad488c6f",
   "metadata": {},
   "outputs": [
    {
     "data": {
      "text/plain": [
       "Sex     Survived\n",
       "female  0            81\n",
       "        1           233\n",
       "male    0           468\n",
       "        1           109\n",
       "Name: Survived, dtype: int64"
      ]
     },
     "execution_count": 143,
     "metadata": {},
     "output_type": "execute_result"
    }
   ],
   "source": [
    "data.groupby(['Sex', 'Survived'])['Survived'].count()"
   ]
  },
  {
   "cell_type": "code",
   "execution_count": 144,
   "id": "e5ae19a4-3c5c-4ce3-bc6f-398a83f0cfb1",
   "metadata": {},
   "outputs": [
    {
     "data": {
      "text/plain": [
       "<AxesSubplot:xlabel='Sex'>"
      ]
     },
     "execution_count": 144,
     "metadata": {},
     "output_type": "execute_result"
    },
    {
     "data": {
      "image/png": "[encoded data removed]",
      "text/plain": [
       "<Figure size 432x288 with 1 Axes>"
      ]
     },
     "metadata": {
      "needs_background": "light"
     },
     "output_type": "display_data"
    }
   ],
   "source": [
    "# Gráfica del promedio de mujeres y hombres y los que sobreviven\n",
    "data[['Sex', 'Survived']].groupby(['Sex']).mean().plot.bar()"
   ]
  },
  {
   "cell_type": "code",
   "execution_count": null,
   "id": "72f66baf-21e2-4bde-b946-8bc0cacb5216",
   "metadata": {},
   "outputs": [],
   "source": [
    "# Variable Ordinal"
   ]
  },
  {
   "cell_type": "code",
   "execution_count": 145,
   "id": "a82be448-1c09-4d7b-83ff-05011b3b22fc",
   "metadata": {},
   "outputs": [
    {
     "data": {
      "text/html": [
       "<style type=\"text/css\">\n",
       "#T_ce59a_row0_col0, #T_ce59a_row1_col1, #T_ce59a_row1_col2, #T_ce59a_row3_col0, #T_ce59a_row3_col1, #T_ce59a_row3_col2 {\n",
       "  background-color: #e2d9e2;\n",
       "  color: #000000;\n",
       "}\n",
       "#T_ce59a_row0_col1 {\n",
       "  background-color: #7094c0;\n",
       "  color: #f1f1f1;\n",
       "}\n",
       "#T_ce59a_row0_col2 {\n",
       "  background-color: #ced3d9;\n",
       "  color: #000000;\n",
       "}\n",
       "#T_ce59a_row1_col0 {\n",
       "  background-color: #d4d6dc;\n",
       "  color: #000000;\n",
       "}\n",
       "#T_ce59a_row2_col0 {\n",
       "  background-color: #721d4f;\n",
       "  color: #f1f1f1;\n",
       "}\n",
       "#T_ce59a_row2_col1 {\n",
       "  background-color: #93b4c6;\n",
       "  color: #000000;\n",
       "}\n",
       "#T_ce59a_row2_col2 {\n",
       "  background-color: #47145f;\n",
       "  color: #f1f1f1;\n",
       "}\n",
       "</style>\n",
       "<table id=\"T_ce59a\">\n",
       "  <thead>\n",
       "    <tr>\n",
       "      <th class=\"index_name level0\" >Survived</th>\n",
       "      <th id=\"T_ce59a_level0_col0\" class=\"col_heading level0 col0\" >0</th>\n",
       "      <th id=\"T_ce59a_level0_col1\" class=\"col_heading level0 col1\" >1</th>\n",
       "      <th id=\"T_ce59a_level0_col2\" class=\"col_heading level0 col2\" >All</th>\n",
       "    </tr>\n",
       "    <tr>\n",
       "      <th class=\"index_name level0\" >Pclass</th>\n",
       "      <th class=\"blank col0\" >&nbsp;</th>\n",
       "      <th class=\"blank col1\" >&nbsp;</th>\n",
       "      <th class=\"blank col2\" >&nbsp;</th>\n",
       "    </tr>\n",
       "  </thead>\n",
       "  <tbody>\n",
       "    <tr>\n",
       "      <th id=\"T_ce59a_level0_row0\" class=\"row_heading level0 row0\" >1</th>\n",
       "      <td id=\"T_ce59a_row0_col0\" class=\"data row0 col0\" >80</td>\n",
       "      <td id=\"T_ce59a_row0_col1\" class=\"data row0 col1\" >136</td>\n",
       "      <td id=\"T_ce59a_row0_col2\" class=\"data row0 col2\" >216</td>\n",
       "    </tr>\n",
       "    <tr>\n",
       "      <th id=\"T_ce59a_level0_row1\" class=\"row_heading level0 row1\" >2</th>\n",
       "      <td id=\"T_ce59a_row1_col0\" class=\"data row1 col0\" >97</td>\n",
       "      <td id=\"T_ce59a_row1_col1\" class=\"data row1 col1\" >87</td>\n",
       "      <td id=\"T_ce59a_row1_col2\" class=\"data row1 col2\" >184</td>\n",
       "    </tr>\n",
       "    <tr>\n",
       "      <th id=\"T_ce59a_level0_row2\" class=\"row_heading level0 row2\" >3</th>\n",
       "      <td id=\"T_ce59a_row2_col0\" class=\"data row2 col0\" >372</td>\n",
       "      <td id=\"T_ce59a_row2_col1\" class=\"data row2 col1\" >119</td>\n",
       "      <td id=\"T_ce59a_row2_col2\" class=\"data row2 col2\" >491</td>\n",
       "    </tr>\n",
       "    <tr>\n",
       "      <th id=\"T_ce59a_level0_row3\" class=\"row_heading level0 row3\" >All</th>\n",
       "      <td id=\"T_ce59a_row3_col0\" class=\"data row3 col0\" >549</td>\n",
       "      <td id=\"T_ce59a_row3_col1\" class=\"data row3 col1\" >342</td>\n",
       "      <td id=\"T_ce59a_row3_col2\" class=\"data row3 col2\" >891</td>\n",
       "    </tr>\n",
       "  </tbody>\n",
       "</table>\n"
      ],
      "text/plain": [
       "<pandas.io.formats.style.Styler at 0x16986d9ef40>"
      ]
     },
     "execution_count": 145,
     "metadata": {},
     "output_type": "execute_result"
    }
   ],
   "source": [
    "pd.crosstab(data ['Pclass'], data['Survived'], margins=True).style.background_gradient(cmap= 'twilight')"
   ]
  },
  {
   "cell_type": "code",
   "execution_count": 146,
   "id": "77f85746-fb7a-4d5f-b4b9-a275007b5054",
   "metadata": {},
   "outputs": [
    {
     "data": {
      "text/plain": [
       "Text(0.5, 0, 'Clase')"
      ]
     },
     "execution_count": 146,
     "metadata": {},
     "output_type": "execute_result"
    },
    {
     "data": {
      "image/png": "[encoded data removed]",
      "text/plain": [
       "<Figure size 1296x576 with 2 Axes>"
      ]
     },
     "metadata": {
      "needs_background": "light"
     },
     "output_type": "display_data"
    }
   ],
   "source": [
    "f, ax = plt.subplots(1,2, figsize = (18,8))\n",
    "\n",
    "data['Pclass'].value_counts().plot.bar(ax = ax[0], color = ['#CD7F32', '#FFDF00', '#D3D3D3'])\n",
    "ax[0].set_title('Pasajeros Por Clase')\n",
    "ax[0].set_ylabel('Cantidad')\n",
    "\n",
    "sns.countplot('Pclass', hue='Survived', data=data,ax=ax[1])\n",
    "ax[1].set_title('Sobrevivientes vs Muertos por Clase')\n",
    "ax[1].set_ylabel('Cantidad')\n",
    "ax[1].set_xlabel('Clase')"
   ]
  },
  {
   "cell_type": "code",
   "execution_count": null,
   "id": "c835130f-46a1-433d-a405-dbadb735b6dd",
   "metadata": {},
   "outputs": [],
   "source": [
    "# Tasa de superviviencia en base al sexo y clase"
   ]
  },
  {
   "cell_type": "code",
   "execution_count": 147,
   "id": "7ba207d2-c6a7-456c-9ed9-0e2915699a92",
   "metadata": {},
   "outputs": [
    {
     "data": {
      "text/html": [
       "<style type=\"text/css\">\n",
       "#T_1d9ee_row0_col0, #T_1d9ee_row0_col1, #T_1d9ee_row0_col3, #T_1d9ee_row3_col2, #T_1d9ee_row4_col0, #T_1d9ee_row4_col1, #T_1d9ee_row4_col2, #T_1d9ee_row4_col3 {\n",
       "  background-color: #e2d9e2;\n",
       "  color: #000000;\n",
       "}\n",
       "#T_1d9ee_row0_col2, #T_1d9ee_row1_col2 {\n",
       "  background-color: #c8d0d6;\n",
       "  color: #000000;\n",
       "}\n",
       "#T_1d9ee_row1_col0 {\n",
       "  background-color: #4f1972;\n",
       "  color: #f1f1f1;\n",
       "}\n",
       "#T_1d9ee_row1_col1 {\n",
       "  background-color: #5c3499;\n",
       "  color: #f1f1f1;\n",
       "}\n",
       "#T_1d9ee_row1_col3 {\n",
       "  background-color: #7297c1;\n",
       "  color: #f1f1f1;\n",
       "}\n",
       "#T_1d9ee_row2_col0 {\n",
       "  background-color: #5d3b9f;\n",
       "  color: #f1f1f1;\n",
       "}\n",
       "#T_1d9ee_row2_col1, #T_1d9ee_row2_col3 {\n",
       "  background-color: #361141;\n",
       "  color: #f1f1f1;\n",
       "}\n",
       "#T_1d9ee_row2_col2 {\n",
       "  background-color: #4f1444;\n",
       "  color: #f1f1f1;\n",
       "}\n",
       "#T_1d9ee_row3_col0 {\n",
       "  background-color: #6e92c0;\n",
       "  color: #f1f1f1;\n",
       "}\n",
       "#T_1d9ee_row3_col1 {\n",
       "  background-color: #c4ced4;\n",
       "  color: #000000;\n",
       "}\n",
       "#T_1d9ee_row3_col3 {\n",
       "  background-color: #d5d6dc;\n",
       "  color: #000000;\n",
       "}\n",
       "</style>\n",
       "<table id=\"T_1d9ee\">\n",
       "  <thead>\n",
       "    <tr>\n",
       "      <th class=\"blank\" >&nbsp;</th>\n",
       "      <th class=\"index_name level0\" >Pclass</th>\n",
       "      <th id=\"T_1d9ee_level0_col0\" class=\"col_heading level0 col0\" >1</th>\n",
       "      <th id=\"T_1d9ee_level0_col1\" class=\"col_heading level0 col1\" >2</th>\n",
       "      <th id=\"T_1d9ee_level0_col2\" class=\"col_heading level0 col2\" >3</th>\n",
       "      <th id=\"T_1d9ee_level0_col3\" class=\"col_heading level0 col3\" >All</th>\n",
       "    </tr>\n",
       "    <tr>\n",
       "      <th class=\"index_name level0\" >Sex</th>\n",
       "      <th class=\"index_name level1\" >Survived</th>\n",
       "      <th class=\"blank col0\" >&nbsp;</th>\n",
       "      <th class=\"blank col1\" >&nbsp;</th>\n",
       "      <th class=\"blank col2\" >&nbsp;</th>\n",
       "      <th class=\"blank col3\" >&nbsp;</th>\n",
       "    </tr>\n",
       "  </thead>\n",
       "  <tbody>\n",
       "    <tr>\n",
       "      <th id=\"T_1d9ee_level0_row0\" class=\"row_heading level0 row0\" rowspan=\"2\">female</th>\n",
       "      <th id=\"T_1d9ee_level1_row0\" class=\"row_heading level1 row0\" >0</th>\n",
       "      <td id=\"T_1d9ee_row0_col0\" class=\"data row0 col0\" >3</td>\n",
       "      <td id=\"T_1d9ee_row0_col1\" class=\"data row0 col1\" >6</td>\n",
       "      <td id=\"T_1d9ee_row0_col2\" class=\"data row0 col2\" >72</td>\n",
       "      <td id=\"T_1d9ee_row0_col3\" class=\"data row0 col3\" >81</td>\n",
       "    </tr>\n",
       "    <tr>\n",
       "      <th id=\"T_1d9ee_level1_row1\" class=\"row_heading level1 row1\" >1</th>\n",
       "      <td id=\"T_1d9ee_row1_col0\" class=\"data row1 col0\" >91</td>\n",
       "      <td id=\"T_1d9ee_row1_col1\" class=\"data row1 col1\" >70</td>\n",
       "      <td id=\"T_1d9ee_row1_col2\" class=\"data row1 col2\" >72</td>\n",
       "      <td id=\"T_1d9ee_row1_col3\" class=\"data row1 col3\" >233</td>\n",
       "    </tr>\n",
       "    <tr>\n",
       "      <th id=\"T_1d9ee_level0_row2\" class=\"row_heading level0 row2\" rowspan=\"2\">male</th>\n",
       "      <th id=\"T_1d9ee_level1_row2\" class=\"row_heading level1 row2\" >0</th>\n",
       "      <td id=\"T_1d9ee_row2_col0\" class=\"data row2 col0\" >77</td>\n",
       "      <td id=\"T_1d9ee_row2_col1\" class=\"data row2 col1\" >91</td>\n",
       "      <td id=\"T_1d9ee_row2_col2\" class=\"data row2 col2\" >300</td>\n",
       "      <td id=\"T_1d9ee_row2_col3\" class=\"data row2 col3\" >468</td>\n",
       "    </tr>\n",
       "    <tr>\n",
       "      <th id=\"T_1d9ee_level1_row3\" class=\"row_heading level1 row3\" >1</th>\n",
       "      <td id=\"T_1d9ee_row3_col0\" class=\"data row3 col0\" >45</td>\n",
       "      <td id=\"T_1d9ee_row3_col1\" class=\"data row3 col1\" >17</td>\n",
       "      <td id=\"T_1d9ee_row3_col2\" class=\"data row3 col2\" >47</td>\n",
       "      <td id=\"T_1d9ee_row3_col3\" class=\"data row3 col3\" >109</td>\n",
       "    </tr>\n",
       "    <tr>\n",
       "      <th id=\"T_1d9ee_level0_row4\" class=\"row_heading level0 row4\" >All</th>\n",
       "      <th id=\"T_1d9ee_level1_row4\" class=\"row_heading level1 row4\" ></th>\n",
       "      <td id=\"T_1d9ee_row4_col0\" class=\"data row4 col0\" >216</td>\n",
       "      <td id=\"T_1d9ee_row4_col1\" class=\"data row4 col1\" >184</td>\n",
       "      <td id=\"T_1d9ee_row4_col2\" class=\"data row4 col2\" >491</td>\n",
       "      <td id=\"T_1d9ee_row4_col3\" class=\"data row4 col3\" >891</td>\n",
       "    </tr>\n",
       "  </tbody>\n",
       "</table>\n"
      ],
      "text/plain": [
       "<pandas.io.formats.style.Styler at 0x16983101b80>"
      ]
     },
     "execution_count": 147,
     "metadata": {},
     "output_type": "execute_result"
    }
   ],
   "source": [
    "pd.crosstab( [data['Sex'], data['Survived']], data['Pclass'], margins=True).style.background_gradient(cmap = 'twilight')"
   ]
  },
  {
   "cell_type": "code",
   "execution_count": 148,
   "id": "36ed5587-7d2f-475f-a808-0e8530cc578a",
   "metadata": {},
   "outputs": [
    {
     "data": {
      "image/png": "[encoded data removed]",
      "text/plain": [
       "<Figure size 430.5x360 with 1 Axes>"
      ]
     },
     "metadata": {
      "needs_background": "light"
     },
     "output_type": "display_data"
    }
   ],
   "source": [
    "sns.factorplot('Pclass', 'Survived', hue='Sex', data = data)\n",
    "plt.show()"
   ]
  },
  {
   "cell_type": "code",
   "execution_count": null,
   "id": "7178ff61-e43a-4eb0-aa96-b419e81aaf97",
   "metadata": {},
   "outputs": [],
   "source": [
    "# Analizando el precio del pasaje (Caracteristicas continuas)"
   ]
  },
  {
   "cell_type": "code",
   "execution_count": 149,
   "id": "e29d9306-c8da-4bd5-9b13-81d539802431",
   "metadata": {},
   "outputs": [
    {
     "name": "stdout",
     "output_type": "stream",
     "text": [
      "El pasaje mas Alto:  512.3292\n",
      "El pasaje mas Bajo:  0.0\n"
     ]
    }
   ],
   "source": [
    "print(\"El pasaje mas Alto: \", data['Fare'].max())\n",
    "print(\"El pasaje mas Bajo: \", data['Fare'].min())"
   ]
  },
  {
   "cell_type": "code",
   "execution_count": 150,
   "id": "8934387d-aa39-4d98-87f1-0afe1ae88bf9",
   "metadata": {},
   "outputs": [
    {
     "data": {
      "image/png": "[encoded data removed]",
      "text/plain": [
       "<Figure size 1296x576 with 3 Axes>"
      ]
     },
     "metadata": {
      "needs_background": "light"
     },
     "output_type": "display_data"
    }
   ],
   "source": [
    "f, ax = plt.subplots(1, 3, figsize = (18,8))\n",
    "sns.distplot( data[ data['Pclass'] == 1 ]['Fare'], ax = ax[0] )\n",
    "ax[0].set_title('Pasajes de primera clase')\n",
    "\n",
    "sns.distplot( data[ data['Pclass'] == 2 ]['Fare'], ax = ax[1] )\n",
    "ax[1].set_title('Pasajes de primera clase')\n",
    "\n",
    "sns.distplot( data[ data['Pclass'] == 3 ]['Fare'], ax = ax[2] )\n",
    "ax[2].set_title('Pasajes de primera clase')\n",
    "\n",
    "plt.show()"
   ]
  },
  {
   "cell_type": "code",
   "execution_count": null,
   "id": "815156ea-b47b-45a6-aca4-8c6437ab2fb6",
   "metadata": {},
   "outputs": [],
   "source": [
    "# Limpieza de Datos"
   ]
  },
  {
   "cell_type": "code",
   "execution_count": 151,
   "id": "b91672fe-9c9d-4ba9-84ab-b05943c431f5",
   "metadata": {},
   "outputs": [],
   "source": [
    "# Normalización\n",
    "data['rango_de_edad'] = 0\n",
    "data.loc[data['Age'] <= 16, 'rango_de_edad'] = 0\n",
    "data.loc[(data['Age'] > 16) & (data['Age'] <=32), 'rango_de_edad'] = 1\n",
    "data.loc[(data['Age'] > 32) & (data['Age'] <=48), 'rango_de_edad'] = 2\n",
    "data.loc[(data['Age'] > 48) & (data['Age'] <=64), 'rango_de_edad'] = 3\n",
    "data.loc[data['Age']  > 64, 'rango_de_edad'] = 4"
   ]
  },
  {
   "cell_type": "code",
   "execution_count": 152,
   "id": "7433d81c-fb70-447c-9ef2-fa0445adb448",
   "metadata": {},
   "outputs": [
    {
     "data": {
      "text/html": [
       "<div>\n",
       "<style scoped>\n",
       "    .dataframe tbody tr th:only-of-type {\n",
       "        vertical-align: middle;\n",
       "    }\n",
       "\n",
       "    .dataframe tbody tr th {\n",
       "        vertical-align: top;\n",
       "    }\n",
       "\n",
       "    .dataframe thead th {\n",
       "        text-align: right;\n",
       "    }\n",
       "</style>\n",
       "<table border=\"1\" class=\"dataframe\">\n",
       "  <thead>\n",
       "    <tr style=\"text-align: right;\">\n",
       "      <th></th>\n",
       "      <th>PassengerId</th>\n",
       "      <th>Survived</th>\n",
       "      <th>Pclass</th>\n",
       "      <th>Name</th>\n",
       "      <th>Sex</th>\n",
       "      <th>Age</th>\n",
       "      <th>SibSp</th>\n",
       "      <th>Parch</th>\n",
       "      <th>Ticket</th>\n",
       "      <th>Fare</th>\n",
       "      <th>Cabin</th>\n",
       "      <th>Embarked</th>\n",
       "      <th>rango_de_edad</th>\n",
       "    </tr>\n",
       "  </thead>\n",
       "  <tbody>\n",
       "    <tr>\n",
       "      <th>0</th>\n",
       "      <td>1</td>\n",
       "      <td>0</td>\n",
       "      <td>3</td>\n",
       "      <td>Braund, Mr. Owen Harris</td>\n",
       "      <td>male</td>\n",
       "      <td>22.0</td>\n",
       "      <td>1</td>\n",
       "      <td>0</td>\n",
       "      <td>A/5 21171</td>\n",
       "      <td>7.2500</td>\n",
       "      <td>NaN</td>\n",
       "      <td>S</td>\n",
       "      <td>1</td>\n",
       "    </tr>\n",
       "    <tr>\n",
       "      <th>1</th>\n",
       "      <td>2</td>\n",
       "      <td>1</td>\n",
       "      <td>1</td>\n",
       "      <td>Cumings, Mrs. John Bradley (Florence Briggs Th...</td>\n",
       "      <td>female</td>\n",
       "      <td>38.0</td>\n",
       "      <td>1</td>\n",
       "      <td>0</td>\n",
       "      <td>PC 17599</td>\n",
       "      <td>71.2833</td>\n",
       "      <td>C85</td>\n",
       "      <td>C</td>\n",
       "      <td>2</td>\n",
       "    </tr>\n",
       "    <tr>\n",
       "      <th>2</th>\n",
       "      <td>3</td>\n",
       "      <td>1</td>\n",
       "      <td>3</td>\n",
       "      <td>Heikkinen, Miss. Laina</td>\n",
       "      <td>female</td>\n",
       "      <td>26.0</td>\n",
       "      <td>0</td>\n",
       "      <td>0</td>\n",
       "      <td>STON/O2. 3101282</td>\n",
       "      <td>7.9250</td>\n",
       "      <td>NaN</td>\n",
       "      <td>S</td>\n",
       "      <td>1</td>\n",
       "    </tr>\n",
       "    <tr>\n",
       "      <th>3</th>\n",
       "      <td>4</td>\n",
       "      <td>1</td>\n",
       "      <td>1</td>\n",
       "      <td>Futrelle, Mrs. Jacques Heath (Lily May Peel)</td>\n",
       "      <td>female</td>\n",
       "      <td>35.0</td>\n",
       "      <td>1</td>\n",
       "      <td>0</td>\n",
       "      <td>113803</td>\n",
       "      <td>53.1000</td>\n",
       "      <td>C123</td>\n",
       "      <td>S</td>\n",
       "      <td>2</td>\n",
       "    </tr>\n",
       "    <tr>\n",
       "      <th>4</th>\n",
       "      <td>5</td>\n",
       "      <td>0</td>\n",
       "      <td>3</td>\n",
       "      <td>Allen, Mr. William Henry</td>\n",
       "      <td>male</td>\n",
       "      <td>35.0</td>\n",
       "      <td>0</td>\n",
       "      <td>0</td>\n",
       "      <td>373450</td>\n",
       "      <td>8.0500</td>\n",
       "      <td>NaN</td>\n",
       "      <td>S</td>\n",
       "      <td>2</td>\n",
       "    </tr>\n",
       "  </tbody>\n",
       "</table>\n",
       "</div>"
      ],
      "text/plain": [
       "   PassengerId  Survived  Pclass  \\\n",
       "0            1         0       3   \n",
       "1            2         1       1   \n",
       "2            3         1       3   \n",
       "3            4         1       1   \n",
       "4            5         0       3   \n",
       "\n",
       "                                                Name     Sex   Age  SibSp  \\\n",
       "0                            Braund, Mr. Owen Harris    male  22.0      1   \n",
       "1  Cumings, Mrs. John Bradley (Florence Briggs Th...  female  38.0      1   \n",
       "2                             Heikkinen, Miss. Laina  female  26.0      0   \n",
       "3       Futrelle, Mrs. Jacques Heath (Lily May Peel)  female  35.0      1   \n",
       "4                           Allen, Mr. William Henry    male  35.0      0   \n",
       "\n",
       "   Parch            Ticket     Fare Cabin Embarked  rango_de_edad  \n",
       "0      0         A/5 21171   7.2500   NaN        S              1  \n",
       "1      0          PC 17599  71.2833   C85        C              2  \n",
       "2      0  STON/O2. 3101282   7.9250   NaN        S              1  \n",
       "3      0            113803  53.1000  C123        S              2  \n",
       "4      0            373450   8.0500   NaN        S              2  "
      ]
     },
     "execution_count": 152,
     "metadata": {},
     "output_type": "execute_result"
    }
   ],
   "source": [
    "data.head()"
   ]
  },
  {
   "cell_type": "code",
   "execution_count": 153,
   "id": "00318c3b-8223-4a81-b0c7-5c5fb131c3c4",
   "metadata": {},
   "outputs": [
    {
     "data": {
      "text/html": [
       "<style type=\"text/css\">\n",
       "#T_1143b_row0_col0, #T_1143b_row4_col0 {\n",
       "  background-color: #e2d9e2;\n",
       "  color: #000000;\n",
       "}\n",
       "#T_1143b_row1_col0 {\n",
       "  background-color: #be705b;\n",
       "  color: #f1f1f1;\n",
       "}\n",
       "#T_1143b_row2_col0 {\n",
       "  background-color: #39113a;\n",
       "  color: #f1f1f1;\n",
       "}\n",
       "#T_1143b_row3_col0 {\n",
       "  background-color: #789ec2;\n",
       "  color: #f1f1f1;\n",
       "}\n",
       "</style>\n",
       "<table id=\"T_1143b\">\n",
       "  <thead>\n",
       "    <tr>\n",
       "      <th class=\"blank level0\" >&nbsp;</th>\n",
       "      <th id=\"T_1143b_level0_col0\" class=\"col_heading level0 col0\" >rango_de_edad</th>\n",
       "    </tr>\n",
       "  </thead>\n",
       "  <tbody>\n",
       "    <tr>\n",
       "      <th id=\"T_1143b_level0_row0\" class=\"row_heading level0 row0\" >1</th>\n",
       "      <td id=\"T_1143b_row0_col0\" class=\"data row0 col0\" >346</td>\n",
       "    </tr>\n",
       "    <tr>\n",
       "      <th id=\"T_1143b_level0_row1\" class=\"row_heading level0 row1\" >0</th>\n",
       "      <td id=\"T_1143b_row1_col0\" class=\"data row1 col0\" >277</td>\n",
       "    </tr>\n",
       "    <tr>\n",
       "      <th id=\"T_1143b_level0_row2\" class=\"row_heading level0 row2\" >2</th>\n",
       "      <td id=\"T_1143b_row2_col0\" class=\"data row2 col0\" >188</td>\n",
       "    </tr>\n",
       "    <tr>\n",
       "      <th id=\"T_1143b_level0_row3\" class=\"row_heading level0 row3\" >3</th>\n",
       "      <td id=\"T_1143b_row3_col0\" class=\"data row3 col0\" >69</td>\n",
       "    </tr>\n",
       "    <tr>\n",
       "      <th id=\"T_1143b_level0_row4\" class=\"row_heading level0 row4\" >4</th>\n",
       "      <td id=\"T_1143b_row4_col0\" class=\"data row4 col0\" >11</td>\n",
       "    </tr>\n",
       "  </tbody>\n",
       "</table>\n"
      ],
      "text/plain": [
       "<pandas.io.formats.style.Styler at 0x16986f080a0>"
      ]
     },
     "execution_count": 153,
     "metadata": {},
     "output_type": "execute_result"
    }
   ],
   "source": [
    "#Comprobar el número de pasajeros de cada banda\n",
    "data['rango_de_edad'].value_counts().to_frame().style.background_gradient(cmap='twilight')"
   ]
  },
  {
   "cell_type": "code",
   "execution_count": 154,
   "id": "78874fd8-9a90-48ae-96d3-6a65662641e7",
   "metadata": {},
   "outputs": [
    {
     "data": {
      "text/plain": [
       "<seaborn.axisgrid.FacetGrid at 0x16986edd640>"
      ]
     },
     "execution_count": 154,
     "metadata": {},
     "output_type": "execute_result"
    },
    {
     "data": {
      "image/png": "[encoded data removed]",
      "text/plain": [
       "<Figure size 1080x360 with 3 Axes>"
      ]
     },
     "metadata": {
      "needs_background": "light"
     },
     "output_type": "display_data"
    }
   ],
   "source": [
    "sns.factorplot('rango_de_edad', 'Survived', data=data, col='Pclass')"
   ]
  },
  {
   "cell_type": "code",
   "execution_count": null,
   "id": "b452c3c7-8ad5-4c36-b383-039732b69de0",
   "metadata": {},
   "outputs": [],
   "source": [
    "# Problemas con la caracteristica del pasaje"
   ]
  },
  {
   "cell_type": "code",
   "execution_count": 155,
   "id": "dd8d9ad2-40da-42b8-9874-477bbe471ca4",
   "metadata": {},
   "outputs": [],
   "source": [
    "data['rango_pasaje'] = pd.qcut(data['Fare'], 4)"
   ]
  },
  {
   "cell_type": "code",
   "execution_count": 156,
   "id": "7b3bf91a-d99d-432a-badb-7b3f2d69cbfd",
   "metadata": {},
   "outputs": [
    {
     "data": {
      "text/html": [
       "<style type=\"text/css\">\n",
       "#T_80c1b_row0_col0, #T_80c1b_row3_col0 {\n",
       "  background-color: #e2d9e2;\n",
       "  color: #000000;\n",
       "}\n",
       "#T_80c1b_row1_col0 {\n",
       "  background-color: #6066b6;\n",
       "  color: #f1f1f1;\n",
       "}\n",
       "#T_80c1b_row2_col0 {\n",
       "  background-color: #902e50;\n",
       "  color: #f1f1f1;\n",
       "}\n",
       "</style>\n",
       "<table id=\"T_80c1b\">\n",
       "  <thead>\n",
       "    <tr>\n",
       "      <th class=\"blank level0\" >&nbsp;</th>\n",
       "      <th id=\"T_80c1b_level0_col0\" class=\"col_heading level0 col0\" >Survived</th>\n",
       "    </tr>\n",
       "    <tr>\n",
       "      <th class=\"index_name level0\" >rango_pasaje</th>\n",
       "      <th class=\"blank col0\" >&nbsp;</th>\n",
       "    </tr>\n",
       "  </thead>\n",
       "  <tbody>\n",
       "    <tr>\n",
       "      <th id=\"T_80c1b_level0_row0\" class=\"row_heading level0 row0\" >(-0.001, 7.91]</th>\n",
       "      <td id=\"T_80c1b_row0_col0\" class=\"data row0 col0\" >0.197309</td>\n",
       "    </tr>\n",
       "    <tr>\n",
       "      <th id=\"T_80c1b_level0_row1\" class=\"row_heading level0 row1\" >(7.91, 14.454]</th>\n",
       "      <td id=\"T_80c1b_row1_col0\" class=\"data row1 col0\" >0.303571</td>\n",
       "    </tr>\n",
       "    <tr>\n",
       "      <th id=\"T_80c1b_level0_row2\" class=\"row_heading level0 row2\" >(14.454, 31.0]</th>\n",
       "      <td id=\"T_80c1b_row2_col0\" class=\"data row2 col0\" >0.454955</td>\n",
       "    </tr>\n",
       "    <tr>\n",
       "      <th id=\"T_80c1b_level0_row3\" class=\"row_heading level0 row3\" >(31.0, 512.329]</th>\n",
       "      <td id=\"T_80c1b_row3_col0\" class=\"data row3 col0\" >0.581081</td>\n",
       "    </tr>\n",
       "  </tbody>\n",
       "</table>\n"
      ],
      "text/plain": [
       "<pandas.io.formats.style.Styler at 0x169872ffb20>"
      ]
     },
     "execution_count": 156,
     "metadata": {},
     "output_type": "execute_result"
    }
   ],
   "source": [
    "data.groupby(['rango_pasaje'])['Survived'].mean().to_frame().style.background_gradient(cmap='twilight')"
   ]
  },
  {
   "cell_type": "code",
   "execution_count": 157,
   "id": "d39bb317-8e4f-4a13-af5c-cde69d9937fa",
   "metadata": {},
   "outputs": [],
   "source": [
    "data['categoria_pasaje'] = 0\n",
    "data.loc[data['Fare'] <= 7.91, 'categoria_pasaje'] = 0\n",
    "data.loc[(data['Fare'] > 7.91) & (data['Fare'] <= 14.454), 'categoria_pasaje'] = 1\n",
    "data.loc[(data['Fare'] > 14.454) & (data['Fare'] <= 31.0), 'categoria_pasaje'] = 2\n",
    "data.loc[(data['Fare'] > 31.0) & (data['Fare'] <= 512.329), 'categoria_pasaje'] = 3"
   ]
  },
  {
   "cell_type": "code",
   "execution_count": 158,
   "id": "e26c0b7b-dde0-49cb-9b89-e6abe397b2f5",
   "metadata": {},
   "outputs": [
    {
     "data": {
      "text/plain": [
       "<seaborn.axisgrid.FacetGrid at 0x1698743e220>"
      ]
     },
     "execution_count": 158,
     "metadata": {},
     "output_type": "execute_result"
    },
    {
     "data": {
      "image/png": "[encoded data removed]",
      "text/plain": [
       "<Figure size 430.5x360 with 1 Axes>"
      ]
     },
     "metadata": {
      "needs_background": "light"
     },
     "output_type": "display_data"
    }
   ],
   "source": [
    "sns.factorplot('categoria_pasaje', 'Survived', data=data, hue = 'Sex')"
   ]
  },
  {
   "cell_type": "code",
   "execution_count": null,
   "id": "de8d83b5-4801-4778-878d-3fff39a6f1b6",
   "metadata": {},
   "outputs": [],
   "source": [
    "# Limpieza de datos: Convertir valores String a Numeric\n",
    "# Codificación de variables categoricas"
   ]
  },
  {
   "cell_type": "code",
   "execution_count": 159,
   "id": "aa3f442e-3b37-4ae0-b9d3-1460007378f0",
   "metadata": {},
   "outputs": [
    {
     "data": {
      "text/html": [
       "<div>\n",
       "<style scoped>\n",
       "    .dataframe tbody tr th:only-of-type {\n",
       "        vertical-align: middle;\n",
       "    }\n",
       "\n",
       "    .dataframe tbody tr th {\n",
       "        vertical-align: top;\n",
       "    }\n",
       "\n",
       "    .dataframe thead th {\n",
       "        text-align: right;\n",
       "    }\n",
       "</style>\n",
       "<table border=\"1\" class=\"dataframe\">\n",
       "  <thead>\n",
       "    <tr style=\"text-align: right;\">\n",
       "      <th></th>\n",
       "      <th>PassengerId</th>\n",
       "      <th>Survived</th>\n",
       "      <th>Pclass</th>\n",
       "      <th>Name</th>\n",
       "      <th>Sex</th>\n",
       "      <th>Age</th>\n",
       "      <th>SibSp</th>\n",
       "      <th>Parch</th>\n",
       "      <th>Ticket</th>\n",
       "      <th>Fare</th>\n",
       "      <th>Cabin</th>\n",
       "      <th>Embarked</th>\n",
       "      <th>rango_de_edad</th>\n",
       "      <th>rango_pasaje</th>\n",
       "      <th>categoria_pasaje</th>\n",
       "    </tr>\n",
       "  </thead>\n",
       "  <tbody>\n",
       "    <tr>\n",
       "      <th>0</th>\n",
       "      <td>1</td>\n",
       "      <td>0</td>\n",
       "      <td>3</td>\n",
       "      <td>Braund, Mr. Owen Harris</td>\n",
       "      <td>male</td>\n",
       "      <td>22.0</td>\n",
       "      <td>1</td>\n",
       "      <td>0</td>\n",
       "      <td>A/5 21171</td>\n",
       "      <td>7.2500</td>\n",
       "      <td>NaN</td>\n",
       "      <td>S</td>\n",
       "      <td>1</td>\n",
       "      <td>(-0.001, 7.91]</td>\n",
       "      <td>0</td>\n",
       "    </tr>\n",
       "    <tr>\n",
       "      <th>1</th>\n",
       "      <td>2</td>\n",
       "      <td>1</td>\n",
       "      <td>1</td>\n",
       "      <td>Cumings, Mrs. John Bradley (Florence Briggs Th...</td>\n",
       "      <td>female</td>\n",
       "      <td>38.0</td>\n",
       "      <td>1</td>\n",
       "      <td>0</td>\n",
       "      <td>PC 17599</td>\n",
       "      <td>71.2833</td>\n",
       "      <td>C85</td>\n",
       "      <td>C</td>\n",
       "      <td>2</td>\n",
       "      <td>(31.0, 512.329]</td>\n",
       "      <td>3</td>\n",
       "    </tr>\n",
       "    <tr>\n",
       "      <th>2</th>\n",
       "      <td>3</td>\n",
       "      <td>1</td>\n",
       "      <td>3</td>\n",
       "      <td>Heikkinen, Miss. Laina</td>\n",
       "      <td>female</td>\n",
       "      <td>26.0</td>\n",
       "      <td>0</td>\n",
       "      <td>0</td>\n",
       "      <td>STON/O2. 3101282</td>\n",
       "      <td>7.9250</td>\n",
       "      <td>NaN</td>\n",
       "      <td>S</td>\n",
       "      <td>1</td>\n",
       "      <td>(7.91, 14.454]</td>\n",
       "      <td>1</td>\n",
       "    </tr>\n",
       "    <tr>\n",
       "      <th>3</th>\n",
       "      <td>4</td>\n",
       "      <td>1</td>\n",
       "      <td>1</td>\n",
       "      <td>Futrelle, Mrs. Jacques Heath (Lily May Peel)</td>\n",
       "      <td>female</td>\n",
       "      <td>35.0</td>\n",
       "      <td>1</td>\n",
       "      <td>0</td>\n",
       "      <td>113803</td>\n",
       "      <td>53.1000</td>\n",
       "      <td>C123</td>\n",
       "      <td>S</td>\n",
       "      <td>2</td>\n",
       "      <td>(31.0, 512.329]</td>\n",
       "      <td>3</td>\n",
       "    </tr>\n",
       "    <tr>\n",
       "      <th>4</th>\n",
       "      <td>5</td>\n",
       "      <td>0</td>\n",
       "      <td>3</td>\n",
       "      <td>Allen, Mr. William Henry</td>\n",
       "      <td>male</td>\n",
       "      <td>35.0</td>\n",
       "      <td>0</td>\n",
       "      <td>0</td>\n",
       "      <td>373450</td>\n",
       "      <td>8.0500</td>\n",
       "      <td>NaN</td>\n",
       "      <td>S</td>\n",
       "      <td>2</td>\n",
       "      <td>(7.91, 14.454]</td>\n",
       "      <td>1</td>\n",
       "    </tr>\n",
       "  </tbody>\n",
       "</table>\n",
       "</div>"
      ],
      "text/plain": [
       "   PassengerId  Survived  Pclass  \\\n",
       "0            1         0       3   \n",
       "1            2         1       1   \n",
       "2            3         1       3   \n",
       "3            4         1       1   \n",
       "4            5         0       3   \n",
       "\n",
       "                                                Name     Sex   Age  SibSp  \\\n",
       "0                            Braund, Mr. Owen Harris    male  22.0      1   \n",
       "1  Cumings, Mrs. John Bradley (Florence Briggs Th...  female  38.0      1   \n",
       "2                             Heikkinen, Miss. Laina  female  26.0      0   \n",
       "3       Futrelle, Mrs. Jacques Heath (Lily May Peel)  female  35.0      1   \n",
       "4                           Allen, Mr. William Henry    male  35.0      0   \n",
       "\n",
       "   Parch            Ticket     Fare Cabin Embarked  rango_de_edad  \\\n",
       "0      0         A/5 21171   7.2500   NaN        S              1   \n",
       "1      0          PC 17599  71.2833   C85        C              2   \n",
       "2      0  STON/O2. 3101282   7.9250   NaN        S              1   \n",
       "3      0            113803  53.1000  C123        S              2   \n",
       "4      0            373450   8.0500   NaN        S              2   \n",
       "\n",
       "      rango_pasaje  categoria_pasaje  \n",
       "0   (-0.001, 7.91]                 0  \n",
       "1  (31.0, 512.329]                 3  \n",
       "2   (7.91, 14.454]                 1  \n",
       "3  (31.0, 512.329]                 3  \n",
       "4   (7.91, 14.454]                 1  "
      ]
     },
     "execution_count": 159,
     "metadata": {},
     "output_type": "execute_result"
    }
   ],
   "source": [
    "data.head()"
   ]
  },
  {
   "cell_type": "code",
   "execution_count": 160,
   "id": "fbac6ea0-21c7-47e1-adba-09e229975cc3",
   "metadata": {},
   "outputs": [],
   "source": [
    "data['Sex'].replace(['male', 'female'], [0,1], inplace = True)\n",
    "data['Embarked'].replace(['S','C','Q'], [0,1,2], inplace = True)"
   ]
  },
  {
   "cell_type": "code",
   "execution_count": 161,
   "id": "41a33137-57fd-432c-9b13-98035052e2fa",
   "metadata": {},
   "outputs": [
    {
     "data": {
      "text/html": [
       "<div>\n",
       "<style scoped>\n",
       "    .dataframe tbody tr th:only-of-type {\n",
       "        vertical-align: middle;\n",
       "    }\n",
       "\n",
       "    .dataframe tbody tr th {\n",
       "        vertical-align: top;\n",
       "    }\n",
       "\n",
       "    .dataframe thead th {\n",
       "        text-align: right;\n",
       "    }\n",
       "</style>\n",
       "<table border=\"1\" class=\"dataframe\">\n",
       "  <thead>\n",
       "    <tr style=\"text-align: right;\">\n",
       "      <th></th>\n",
       "      <th>PassengerId</th>\n",
       "      <th>Survived</th>\n",
       "      <th>Pclass</th>\n",
       "      <th>Name</th>\n",
       "      <th>Sex</th>\n",
       "      <th>Age</th>\n",
       "      <th>SibSp</th>\n",
       "      <th>Parch</th>\n",
       "      <th>Ticket</th>\n",
       "      <th>Fare</th>\n",
       "      <th>Cabin</th>\n",
       "      <th>Embarked</th>\n",
       "      <th>rango_de_edad</th>\n",
       "      <th>rango_pasaje</th>\n",
       "      <th>categoria_pasaje</th>\n",
       "    </tr>\n",
       "  </thead>\n",
       "  <tbody>\n",
       "    <tr>\n",
       "      <th>0</th>\n",
       "      <td>1</td>\n",
       "      <td>0</td>\n",
       "      <td>3</td>\n",
       "      <td>Braund, Mr. Owen Harris</td>\n",
       "      <td>0</td>\n",
       "      <td>22.0</td>\n",
       "      <td>1</td>\n",
       "      <td>0</td>\n",
       "      <td>A/5 21171</td>\n",
       "      <td>7.2500</td>\n",
       "      <td>NaN</td>\n",
       "      <td>0.0</td>\n",
       "      <td>1</td>\n",
       "      <td>(-0.001, 7.91]</td>\n",
       "      <td>0</td>\n",
       "    </tr>\n",
       "    <tr>\n",
       "      <th>1</th>\n",
       "      <td>2</td>\n",
       "      <td>1</td>\n",
       "      <td>1</td>\n",
       "      <td>Cumings, Mrs. John Bradley (Florence Briggs Th...</td>\n",
       "      <td>1</td>\n",
       "      <td>38.0</td>\n",
       "      <td>1</td>\n",
       "      <td>0</td>\n",
       "      <td>PC 17599</td>\n",
       "      <td>71.2833</td>\n",
       "      <td>C85</td>\n",
       "      <td>1.0</td>\n",
       "      <td>2</td>\n",
       "      <td>(31.0, 512.329]</td>\n",
       "      <td>3</td>\n",
       "    </tr>\n",
       "    <tr>\n",
       "      <th>2</th>\n",
       "      <td>3</td>\n",
       "      <td>1</td>\n",
       "      <td>3</td>\n",
       "      <td>Heikkinen, Miss. Laina</td>\n",
       "      <td>1</td>\n",
       "      <td>26.0</td>\n",
       "      <td>0</td>\n",
       "      <td>0</td>\n",
       "      <td>STON/O2. 3101282</td>\n",
       "      <td>7.9250</td>\n",
       "      <td>NaN</td>\n",
       "      <td>0.0</td>\n",
       "      <td>1</td>\n",
       "      <td>(7.91, 14.454]</td>\n",
       "      <td>1</td>\n",
       "    </tr>\n",
       "  </tbody>\n",
       "</table>\n",
       "</div>"
      ],
      "text/plain": [
       "   PassengerId  Survived  Pclass  \\\n",
       "0            1         0       3   \n",
       "1            2         1       1   \n",
       "2            3         1       3   \n",
       "\n",
       "                                                Name  Sex   Age  SibSp  Parch  \\\n",
       "0                            Braund, Mr. Owen Harris    0  22.0      1      0   \n",
       "1  Cumings, Mrs. John Bradley (Florence Briggs Th...    1  38.0      1      0   \n",
       "2                             Heikkinen, Miss. Laina    1  26.0      0      0   \n",
       "\n",
       "             Ticket     Fare Cabin  Embarked  rango_de_edad     rango_pasaje  \\\n",
       "0         A/5 21171   7.2500   NaN       0.0              1   (-0.001, 7.91]   \n",
       "1          PC 17599  71.2833   C85       1.0              2  (31.0, 512.329]   \n",
       "2  STON/O2. 3101282   7.9250   NaN       0.0              1   (7.91, 14.454]   \n",
       "\n",
       "   categoria_pasaje  \n",
       "0                 0  \n",
       "1                 3  \n",
       "2                 1  "
      ]
     },
     "execution_count": 161,
     "metadata": {},
     "output_type": "execute_result"
    }
   ],
   "source": [
    "data.head(3)"
   ]
  },
  {
   "cell_type": "code",
   "execution_count": null,
   "id": "f16a6190-331b-4ec6-a775-bdaf4289bbfc",
   "metadata": {},
   "outputs": [],
   "source": [
    "# Eliminar caracteristicas innecesarias"
   ]
  },
  {
   "cell_type": "code",
   "execution_count": 162,
   "id": "bf118ae4-30e2-4962-9008-cd45c5a4c594",
   "metadata": {},
   "outputs": [],
   "source": [
    "data.drop(['PassengerId', 'Name', 'Age', 'Ticket', 'Fare', 'Cabin', 'rango_pasaje'], axis=1, inplace=True)"
   ]
  },
  {
   "cell_type": "code",
   "execution_count": 163,
   "id": "6a23770f-112c-4df6-b757-56c255975a9d",
   "metadata": {},
   "outputs": [
    {
     "data": {
      "text/html": [
       "<div>\n",
       "<style scoped>\n",
       "    .dataframe tbody tr th:only-of-type {\n",
       "        vertical-align: middle;\n",
       "    }\n",
       "\n",
       "    .dataframe tbody tr th {\n",
       "        vertical-align: top;\n",
       "    }\n",
       "\n",
       "    .dataframe thead th {\n",
       "        text-align: right;\n",
       "    }\n",
       "</style>\n",
       "<table border=\"1\" class=\"dataframe\">\n",
       "  <thead>\n",
       "    <tr style=\"text-align: right;\">\n",
       "      <th></th>\n",
       "      <th>Survived</th>\n",
       "      <th>Pclass</th>\n",
       "      <th>Sex</th>\n",
       "      <th>SibSp</th>\n",
       "      <th>Parch</th>\n",
       "      <th>Embarked</th>\n",
       "      <th>rango_de_edad</th>\n",
       "      <th>categoria_pasaje</th>\n",
       "    </tr>\n",
       "  </thead>\n",
       "  <tbody>\n",
       "    <tr>\n",
       "      <th>0</th>\n",
       "      <td>0</td>\n",
       "      <td>3</td>\n",
       "      <td>0</td>\n",
       "      <td>1</td>\n",
       "      <td>0</td>\n",
       "      <td>0.0</td>\n",
       "      <td>1</td>\n",
       "      <td>0</td>\n",
       "    </tr>\n",
       "    <tr>\n",
       "      <th>1</th>\n",
       "      <td>1</td>\n",
       "      <td>1</td>\n",
       "      <td>1</td>\n",
       "      <td>1</td>\n",
       "      <td>0</td>\n",
       "      <td>1.0</td>\n",
       "      <td>2</td>\n",
       "      <td>3</td>\n",
       "    </tr>\n",
       "    <tr>\n",
       "      <th>2</th>\n",
       "      <td>1</td>\n",
       "      <td>3</td>\n",
       "      <td>1</td>\n",
       "      <td>0</td>\n",
       "      <td>0</td>\n",
       "      <td>0.0</td>\n",
       "      <td>1</td>\n",
       "      <td>1</td>\n",
       "    </tr>\n",
       "  </tbody>\n",
       "</table>\n",
       "</div>"
      ],
      "text/plain": [
       "   Survived  Pclass  Sex  SibSp  Parch  Embarked  rango_de_edad  \\\n",
       "0         0       3    0      1      0       0.0              1   \n",
       "1         1       1    1      1      0       1.0              2   \n",
       "2         1       3    1      0      0       0.0              1   \n",
       "\n",
       "   categoria_pasaje  \n",
       "0                 0  \n",
       "1                 3  \n",
       "2                 1  "
      ]
     },
     "execution_count": 163,
     "metadata": {},
     "output_type": "execute_result"
    }
   ],
   "source": [
    "data.head(3)"
   ]
  },
  {
   "cell_type": "code",
   "execution_count": null,
   "id": "5ffd47e7-6f6a-4f3a-81ad-7e922d5c6357",
   "metadata": {},
   "outputs": [],
   "source": [
    "# Tratamiento de datos Nulos"
   ]
  },
  {
   "cell_type": "code",
   "execution_count": 164,
   "id": "7b97374e-3703-4e3e-9537-0ec2acd92a4e",
   "metadata": {},
   "outputs": [
    {
     "data": {
      "text/plain": [
       "Survived            0\n",
       "Pclass              0\n",
       "Sex                 0\n",
       "SibSp               0\n",
       "Parch               0\n",
       "Embarked            2\n",
       "rango_de_edad       0\n",
       "categoria_pasaje    0\n",
       "dtype: int64"
      ]
     },
     "execution_count": 164,
     "metadata": {},
     "output_type": "execute_result"
    }
   ],
   "source": [
    "data.isnull().sum()"
   ]
  },
  {
   "cell_type": "code",
   "execution_count": 168,
   "id": "050d2411-9628-4fb9-bd94-7aca0b9ba0d7",
   "metadata": {},
   "outputs": [
    {
     "data": {
      "text/html": [
       "<div>\n",
       "<style scoped>\n",
       "    .dataframe tbody tr th:only-of-type {\n",
       "        vertical-align: middle;\n",
       "    }\n",
       "\n",
       "    .dataframe tbody tr th {\n",
       "        vertical-align: top;\n",
       "    }\n",
       "\n",
       "    .dataframe thead th {\n",
       "        text-align: right;\n",
       "    }\n",
       "</style>\n",
       "<table border=\"1\" class=\"dataframe\">\n",
       "  <thead>\n",
       "    <tr style=\"text-align: right;\">\n",
       "      <th></th>\n",
       "      <th>Survived</th>\n",
       "      <th>Pclass</th>\n",
       "      <th>Sex</th>\n",
       "      <th>SibSp</th>\n",
       "      <th>Parch</th>\n",
       "      <th>Embarked</th>\n",
       "      <th>rango_de_edad</th>\n",
       "      <th>categoria_pasaje</th>\n",
       "    </tr>\n",
       "  </thead>\n",
       "  <tbody>\n",
       "    <tr>\n",
       "      <th>61</th>\n",
       "      <td>1</td>\n",
       "      <td>1</td>\n",
       "      <td>1</td>\n",
       "      <td>0</td>\n",
       "      <td>0</td>\n",
       "      <td>NaN</td>\n",
       "      <td>2</td>\n",
       "      <td>3</td>\n",
       "    </tr>\n",
       "    <tr>\n",
       "      <th>829</th>\n",
       "      <td>1</td>\n",
       "      <td>1</td>\n",
       "      <td>1</td>\n",
       "      <td>0</td>\n",
       "      <td>0</td>\n",
       "      <td>NaN</td>\n",
       "      <td>3</td>\n",
       "      <td>3</td>\n",
       "    </tr>\n",
       "  </tbody>\n",
       "</table>\n",
       "</div>"
      ],
      "text/plain": [
       "     Survived  Pclass  Sex  SibSp  Parch  Embarked  rango_de_edad  \\\n",
       "61          1       1    1      0      0       NaN              2   \n",
       "829         1       1    1      0      0       NaN              3   \n",
       "\n",
       "     categoria_pasaje  \n",
       "61                  3  \n",
       "829                 3  "
      ]
     },
     "execution_count": 168,
     "metadata": {},
     "output_type": "execute_result"
    }
   ],
   "source": [
    "data[data['Embarked'].isnull() ]"
   ]
  },
  {
   "cell_type": "code",
   "execution_count": 169,
   "id": "baa71512-4f95-4ba1-ab95-42ea25a5a74b",
   "metadata": {},
   "outputs": [
    {
     "data": {
      "text/plain": [
       "Text(0.5, 1.0, 'Número pasajeros que abordaron')"
      ]
     },
     "execution_count": 169,
     "metadata": {},
     "output_type": "execute_result"
    },
    {
     "data": {
      "image/png": "[encoded data removed]",
      "text/plain": [
       "<Figure size 360x432 with 1 Axes>"
      ]
     },
     "metadata": {
      "needs_background": "light"
     },
     "output_type": "display_data"
    }
   ],
   "source": [
    "f, ax=plt.subplots(1,1, figsize=(5,6))\n",
    "\n",
    "sns.countplot('Embarked', data=data, ax=ax)\n",
    "ax.set_title('Número pasajeros que abordaron')"
   ]
  },
  {
   "cell_type": "code",
   "execution_count": 170,
   "id": "8e5e0578-f36f-43ef-858e-ada02c784254",
   "metadata": {},
   "outputs": [],
   "source": [
    "data['Embarked'].fillna(0, inplace = True)"
   ]
  },
  {
   "cell_type": "code",
   "execution_count": 172,
   "id": "8662f37d-3324-4728-a023-d75f335d89a4",
   "metadata": {},
   "outputs": [
    {
     "data": {
      "text/plain": [
       "Survived            0\n",
       "Pclass              0\n",
       "Sex                 0\n",
       "SibSp               0\n",
       "Parch               0\n",
       "Embarked            0\n",
       "rango_de_edad       0\n",
       "categoria_pasaje    0\n",
       "dtype: int64"
      ]
     },
     "execution_count": 172,
     "metadata": {},
     "output_type": "execute_result"
    }
   ],
   "source": [
    "data.isnull().sum()"
   ]
  },
  {
   "cell_type": "code",
   "execution_count": 175,
   "id": "c32d9e1f-b4aa-40ae-b0f4-2305c31c5882",
   "metadata": {},
   "outputs": [
    {
     "data": {
      "text/html": [
       "<div>\n",
       "<style scoped>\n",
       "    .dataframe tbody tr th:only-of-type {\n",
       "        vertical-align: middle;\n",
       "    }\n",
       "\n",
       "    .dataframe tbody tr th {\n",
       "        vertical-align: top;\n",
       "    }\n",
       "\n",
       "    .dataframe thead th {\n",
       "        text-align: right;\n",
       "    }\n",
       "</style>\n",
       "<table border=\"1\" class=\"dataframe\">\n",
       "  <thead>\n",
       "    <tr style=\"text-align: right;\">\n",
       "      <th></th>\n",
       "      <th>Survived</th>\n",
       "      <th>Pclass</th>\n",
       "      <th>Sex</th>\n",
       "      <th>SibSp</th>\n",
       "      <th>Parch</th>\n",
       "      <th>Embarked</th>\n",
       "      <th>rango_de_edad</th>\n",
       "      <th>categoria_pasaje</th>\n",
       "    </tr>\n",
       "  </thead>\n",
       "  <tbody>\n",
       "    <tr>\n",
       "      <th>0</th>\n",
       "      <td>0</td>\n",
       "      <td>3</td>\n",
       "      <td>0</td>\n",
       "      <td>1</td>\n",
       "      <td>0</td>\n",
       "      <td>0.0</td>\n",
       "      <td>1</td>\n",
       "      <td>0</td>\n",
       "    </tr>\n",
       "    <tr>\n",
       "      <th>1</th>\n",
       "      <td>1</td>\n",
       "      <td>1</td>\n",
       "      <td>1</td>\n",
       "      <td>1</td>\n",
       "      <td>0</td>\n",
       "      <td>1.0</td>\n",
       "      <td>2</td>\n",
       "      <td>3</td>\n",
       "    </tr>\n",
       "    <tr>\n",
       "      <th>2</th>\n",
       "      <td>1</td>\n",
       "      <td>3</td>\n",
       "      <td>1</td>\n",
       "      <td>0</td>\n",
       "      <td>0</td>\n",
       "      <td>0.0</td>\n",
       "      <td>1</td>\n",
       "      <td>1</td>\n",
       "    </tr>\n",
       "    <tr>\n",
       "      <th>3</th>\n",
       "      <td>1</td>\n",
       "      <td>1</td>\n",
       "      <td>1</td>\n",
       "      <td>1</td>\n",
       "      <td>0</td>\n",
       "      <td>0.0</td>\n",
       "      <td>2</td>\n",
       "      <td>3</td>\n",
       "    </tr>\n",
       "    <tr>\n",
       "      <th>4</th>\n",
       "      <td>0</td>\n",
       "      <td>3</td>\n",
       "      <td>0</td>\n",
       "      <td>0</td>\n",
       "      <td>0</td>\n",
       "      <td>0.0</td>\n",
       "      <td>2</td>\n",
       "      <td>1</td>\n",
       "    </tr>\n",
       "  </tbody>\n",
       "</table>\n",
       "</div>"
      ],
      "text/plain": [
       "   Survived  Pclass  Sex  SibSp  Parch  Embarked  rango_de_edad  \\\n",
       "0         0       3    0      1      0       0.0              1   \n",
       "1         1       1    1      1      0       1.0              2   \n",
       "2         1       3    1      0      0       0.0              1   \n",
       "3         1       1    1      1      0       0.0              2   \n",
       "4         0       3    0      0      0       0.0              2   \n",
       "\n",
       "   categoria_pasaje  \n",
       "0                 0  \n",
       "1                 3  \n",
       "2                 1  \n",
       "3                 3  \n",
       "4                 1  "
      ]
     },
     "execution_count": 175,
     "metadata": {},
     "output_type": "execute_result"
    }
   ],
   "source": [
    "data.head()"
   ]
  }
 ],
 "metadata": {
  "kernelspec": {
   "display_name": "Python 3 (ipykernel)",
   "language": "python",
   "name": "python3"
  },
  "language_info": {
   "codemirror_mode": {
    "name": "ipython",
    "version": 3
   },
   "file_extension": ".py",
   "mimetype": "text/x-python",
   "name": "python",
   "nbconvert_exporter": "python",
   "pygments_lexer": "ipython3",
   "version": "3.9.12"
  }
 },
 "nbformat": 4,
 "nbformat_minor": 5
}
